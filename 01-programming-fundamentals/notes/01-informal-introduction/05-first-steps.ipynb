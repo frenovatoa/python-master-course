{
 "cells": [
  {
   "cell_type": "markdown",
   "metadata": {},
   "source": [
    "## Example header\n",
    "Try to deduce what this program does (you don't have to think too hard)."
   ]
  },
  {
   "cell_type": "code",
   "execution_count": 5,
   "metadata": {
    "collapsed": false
   },
   "outputs": [
    {
     "name": "stdout",
     "output_type": "stream",
     "text": [
      "1 \tis an odd number.\n",
      "2 \tis an even number.\n",
      "3 \tis an odd number.\n",
      "4 \tis an even number.\n",
      "5 \tis an odd number.\n",
      "6 \tis an even number.\n",
      "7 \tis an odd number.\n",
      "8 \tis an even number.\n",
      "9 \tis an odd number.\n",
      "10 \tis an even number.\n"
     ]
    }
   ],
   "source": [
    "# Assign a value to a variable (1).\n",
    "n = 1\n",
    "# The while loop will be executed 10 times because the condition is n <= 10: 1, 2, 3, 4, 5, 6, 7, 8, 9, 10.\n",
    "while n <= 10:\n",
    "    # If n number is even, print the number and a message.\n",
    "    if (n % 2) == 0: \n",
    "        print(n,'\\tis an even number.')\n",
    "    # Else, n number is odd, therefore print the number and a message.\n",
    "    else:\n",
    "        print(n,'\\tis an odd number.')\n",
    "    # Increment n by 1.\n",
    "    n = n + 1"
   ]
  }
 ],
 "metadata": {
  "kernelspec": {
   "display_name": "Python 3",
   "language": "python",
   "name": "python3"
  },
  "language_info": {
   "codemirror_mode": {
    "name": "ipython",
    "version": 3
   },
   "file_extension": ".py",
   "mimetype": "text/x-python",
   "name": "python",
   "nbconvert_exporter": "python",
   "pygments_lexer": "ipython3",
   "version": "3.10.8"
  }
 },
 "nbformat": 4,
 "nbformat_minor": 0
}
