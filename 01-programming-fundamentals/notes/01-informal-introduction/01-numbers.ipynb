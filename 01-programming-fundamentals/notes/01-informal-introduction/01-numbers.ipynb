{
  "cells": [
    {
      "cell_type": "markdown",
      "metadata": {
        "id": "-CLJufmUqVMh"
      },
      "source": [
        "# Working with numbers\n",
        "## Using the interpreter as a calculator"
      ]
    },
    {
      "cell_type": "code",
      "execution_count": 1,
      "metadata": {
        "colab": {
          "base_uri": "https://localhost:8080/"
        },
        "id": "yq5jODMEqVMp",
        "outputId": "bd5db860-94a7-4da4-c882-b55a327c9d42"
      },
      "outputs": [
        {
          "data": {
            "text/plain": [
              "5"
            ]
          },
          "execution_count": 1,
          "metadata": {},
          "output_type": "execute_result"
        }
      ],
      "source": [
        "3+2"
      ]
    },
    {
      "cell_type": "code",
      "execution_count": 2,
      "metadata": {
        "colab": {
          "base_uri": "https://localhost:8080/"
        },
        "id": "_QfQbMiTqVMw",
        "outputId": "da2012d8-b655-4820-a1e0-802ea2725351"
      },
      "outputs": [
        {
          "data": {
            "text/plain": [
              "1"
            ]
          },
          "execution_count": 2,
          "metadata": {},
          "output_type": "execute_result"
        }
      ],
      "source": [
        "3-2"
      ]
    },
    {
      "cell_type": "code",
      "execution_count": 3,
      "metadata": {
        "colab": {
          "base_uri": "https://localhost:8080/"
        },
        "id": "QaReQVgKqVMx",
        "outputId": "cb08d031-2447-4c87-e925-8be3766a68b4"
      },
      "outputs": [
        {
          "data": {
            "text/plain": [
              "6"
            ]
          },
          "execution_count": 3,
          "metadata": {},
          "output_type": "execute_result"
        }
      ],
      "source": [
        "3*2"
      ]
    },
    {
      "cell_type": "markdown",
      "metadata": {
        "id": "PXCbaQAPqVMz"
      },
      "source": [
        "#### # Comments can be used to explain what the code is doing."
      ]
    },
    {
      "cell_type": "code",
      "execution_count": 6,
      "metadata": {
        "colab": {
          "base_uri": "https://localhost:8080/"
        },
        "id": "HB9PXjCNqVM0",
        "outputId": "69733a2d-b132-4c75-c1b5-fb288f3f6d14"
      },
      "outputs": [
        {
          "data": {
            "text/plain": [
              "1.5"
            ]
          },
          "execution_count": 6,
          "metadata": {},
          "output_type": "execute_result"
        }
      ],
      "source": [
        "# Division.\n",
        "3/2"
      ]
    },
    {
      "cell_type": "code",
      "execution_count": 5,
      "metadata": {
        "colab": {
          "base_uri": "https://localhost:8080/"
        },
        "id": "mJEwzt6lqVM1",
        "outputId": "90680d72-34c9-4ba9-cede-cef243e7d1b7"
      },
      "outputs": [
        {
          "data": {
            "text/plain": [
              "1"
            ]
          },
          "execution_count": 5,
          "metadata": {},
          "output_type": "execute_result"
        }
      ],
      "source": [
        "# Module.\n",
        "3%2"
      ]
    },
    {
      "cell_type": "code",
      "execution_count": null,
      "metadata": {
        "colab": {
          "base_uri": "https://localhost:8080/"
        },
        "id": "VQETTKelqVM2",
        "outputId": "dec91222-9160-45f9-b292-f43be7f4a8b9"
      },
      "outputs": [
        {
          "data": {
            "text/plain": [
              "9"
            ]
          },
          "execution_count": 6,
          "metadata": {},
          "output_type": "execute_result"
        }
      ],
      "source": [
        "# Power.\n",
        "3**2"
      ]
    },
    {
      "cell_type": "markdown",
      "metadata": {
        "id": "L5ZvKBX3qVM3"
      },
      "source": [
        "### There are two types of numbers:\n",
        "- **Integers**: Which do not have a decimal part and range from minus infinity to plus infinity.\n",
        "- **Floats** or decimals: Numbers that have a decimal part written with a point."
      ]
    },
    {
      "cell_type": "code",
      "execution_count": 7,
      "metadata": {
        "colab": {
          "base_uri": "https://localhost:8080/"
        },
        "id": "V-IpFqoQqVM4",
        "outputId": "6f7b0c79-c906-4c5b-a32a-e2e56148cb5e"
      },
      "outputs": [
        {
          "data": {
            "text/plain": [
              "1"
            ]
          },
          "execution_count": 7,
          "metadata": {},
          "output_type": "execute_result"
        }
      ],
      "source": [
        "1"
      ]
    },
    {
      "cell_type": "code",
      "execution_count": 8,
      "metadata": {
        "colab": {
          "base_uri": "https://localhost:8080/"
        },
        "id": "obFOh1AUqVM5",
        "outputId": "dcc507e2-336b-4b8a-a151-f4b4a898bca0"
      },
      "outputs": [
        {
          "data": {
            "text/plain": [
              "323239829389.2383"
            ]
          },
          "execution_count": 8,
          "metadata": {},
          "output_type": "execute_result"
        }
      ],
      "source": [
        "323239829389.238273283"
      ]
    },
    {
      "cell_type": "markdown",
      "metadata": {
        "id": "FiAy9zL1qVM6"
      },
      "source": [
        "### More complex operations are also possible.\n",
        "Python will automatically interpret operator priorities."
      ]
    },
    {
      "cell_type": "code",
      "execution_count": 9,
      "metadata": {
        "colab": {
          "base_uri": "https://localhost:8080/"
        },
        "id": "-uxVlI1NqVM6",
        "outputId": "13705594-71ec-4203-964d-0d3a535e66dd"
      },
      "outputs": [
        {
          "data": {
            "text/plain": [
              "41"
            ]
          },
          "execution_count": 9,
          "metadata": {},
          "output_type": "execute_result"
        }
      ],
      "source": [
        "3-2+4*10"
      ]
    },
    {
      "cell_type": "markdown",
      "metadata": {
        "id": "UL2FBDJaqVM7"
      },
      "source": [
        "## Variables\n",
        "Fundamental concept of programming, in which an identifier is defined and a value is assigned to it.\n",
        "\n",
        "They can be used as if they were a literal value, even operating between other variables and reassigning them a value at any time."
      ]
    },
    {
      "cell_type": "code",
      "execution_count": 10,
      "metadata": {
        "colab": {
          "base_uri": "https://localhost:8080/"
        },
        "id": "vc3YMuwsqVM8",
        "outputId": "047a0c88-7f51-42eb-ecf3-844904f580b8"
      },
      "outputs": [
        {
          "data": {
            "text/plain": [
              "3"
            ]
          },
          "execution_count": 10,
          "metadata": {},
          "output_type": "execute_result"
        }
      ],
      "source": [
        "# Assigning a value to a variable.\n",
        "n = 3\n",
        "n"
      ]
    },
    {
      "cell_type": "code",
      "execution_count": 11,
      "metadata": {
        "colab": {
          "base_uri": "https://localhost:8080/"
        },
        "id": "3Lq6kPYbqVM9",
        "outputId": "1c3a68d4-4839-49ab-8770-b58a728e6c77"
      },
      "outputs": [
        {
          "data": {
            "text/plain": [
              "6"
            ]
          },
          "execution_count": 11,
          "metadata": {},
          "output_type": "execute_result"
        }
      ],
      "source": [
        "n+3"
      ]
    },
    {
      "cell_type": "code",
      "execution_count": 12,
      "metadata": {
        "colab": {
          "base_uri": "https://localhost:8080/"
        },
        "id": "Vf_vP05mqVM9",
        "outputId": "c1b72a94-c253-48b3-e80d-251949faef33"
      },
      "outputs": [
        {
          "data": {
            "text/plain": [
              "6"
            ]
          },
          "execution_count": 12,
          "metadata": {},
          "output_type": "execute_result"
        }
      ],
      "source": [
        "n*2"
      ]
    },
    {
      "cell_type": "code",
      "execution_count": 13,
      "metadata": {
        "colab": {
          "base_uri": "https://localhost:8080/"
        },
        "id": "Fr2nZLq2qVM-",
        "outputId": "cb05cd2e-e188-49a7-8aba-d880206c8031"
      },
      "outputs": [
        {
          "data": {
            "text/plain": [
              "9"
            ]
          },
          "execution_count": 13,
          "metadata": {},
          "output_type": "execute_result"
        }
      ],
      "source": [
        "n*n"
      ]
    },
    {
      "cell_type": "code",
      "execution_count": 14,
      "metadata": {
        "collapsed": true,
        "id": "4PtmhbrDqVM-"
      },
      "outputs": [],
      "source": [
        "m=10"
      ]
    },
    {
      "cell_type": "code",
      "execution_count": 15,
      "metadata": {
        "colab": {
          "base_uri": "https://localhost:8080/"
        },
        "id": "cc7iyBH3qVM_",
        "outputId": "faafdff1-0819-487a-d032-de54d2f6ac7b"
      },
      "outputs": [
        {
          "data": {
            "text/plain": [
              "13"
            ]
          },
          "execution_count": 15,
          "metadata": {},
          "output_type": "execute_result"
        }
      ],
      "source": [
        "n+m"
      ]
    },
    {
      "cell_type": "code",
      "execution_count": 16,
      "metadata": {
        "colab": {
          "base_uri": "https://localhost:8080/"
        },
        "id": "ToBkUYrPqVM_",
        "outputId": "2d060889-9272-4af2-95b5-50e7ff3feb3b"
      },
      "outputs": [
        {
          "data": {
            "text/plain": [
              "40"
            ]
          },
          "execution_count": 16,
          "metadata": {},
          "output_type": "execute_result"
        }
      ],
      "source": [
        "n*m+10"
      ]
    },
    {
      "cell_type": "code",
      "execution_count": 17,
      "metadata": {
        "colab": {
          "base_uri": "https://localhost:8080/"
        },
        "id": "mxm8_cXFqVNA",
        "outputId": "ea4140c9-6117-4f0d-e826-dbb3c2712531"
      },
      "outputs": [
        {
          "data": {
            "text/plain": [
              "25"
            ]
          },
          "execution_count": 17,
          "metadata": {},
          "output_type": "execute_result"
        }
      ],
      "source": [
        "n=10\n",
        "m=15\n",
        "n+m"
      ]
    },
    {
      "cell_type": "code",
      "execution_count": 18,
      "metadata": {
        "collapsed": true,
        "id": "Xl4VtLI_qVNA"
      },
      "outputs": [],
      "source": [
        "n=m"
      ]
    },
    {
      "cell_type": "code",
      "execution_count": 19,
      "metadata": {
        "colab": {
          "base_uri": "https://localhost:8080/"
        },
        "id": "O5L_usuuqVNB",
        "outputId": "f07464a1-af91-478e-d001-35c735976649"
      },
      "outputs": [
        {
          "data": {
            "text/plain": [
              "15"
            ]
          },
          "execution_count": 19,
          "metadata": {},
          "output_type": "execute_result"
        }
      ],
      "source": [
        "n"
      ]
    },
    {
      "cell_type": "code",
      "execution_count": 20,
      "metadata": {
        "colab": {
          "base_uri": "https://localhost:8080/"
        },
        "id": "y8aJ9dpsqVNB",
        "outputId": "45cdae34-1900-4757-9bfa-959d324b7a71"
      },
      "outputs": [
        {
          "data": {
            "text/plain": [
              "15"
            ]
          },
          "execution_count": 20,
          "metadata": {},
          "output_type": "execute_result"
        }
      ],
      "source": [
        "m"
      ]
    },
    {
      "cell_type": "code",
      "execution_count": 21,
      "metadata": {
        "collapsed": true,
        "id": "_tqLMRZoqVNO"
      },
      "outputs": [],
      "source": [
        "n=m+10"
      ]
    },
    {
      "cell_type": "code",
      "execution_count": 22,
      "metadata": {
        "colab": {
          "base_uri": "https://localhost:8080/"
        },
        "id": "mGlNhL23qVNO",
        "outputId": "2eb7a769-cb3e-4d3c-9946-f281041e31db"
      },
      "outputs": [
        {
          "data": {
            "text/plain": [
              "25"
            ]
          },
          "execution_count": 22,
          "metadata": {},
          "output_type": "execute_result"
        }
      ],
      "source": [
        "n"
      ]
    },
    {
      "cell_type": "code",
      "execution_count": 23,
      "metadata": {
        "collapsed": true,
        "id": "nvNlXFLLqVNP"
      },
      "outputs": [],
      "source": [
        "n=n+25"
      ]
    },
    {
      "cell_type": "code",
      "execution_count": 24,
      "metadata": {
        "colab": {
          "base_uri": "https://localhost:8080/"
        },
        "id": "jy0vqMdAqVNQ",
        "outputId": "46e9a2aa-d1be-486c-e4b8-fd321a29718a"
      },
      "outputs": [
        {
          "data": {
            "text/plain": [
              "50"
            ]
          },
          "execution_count": 24,
          "metadata": {},
          "output_type": "execute_result"
        }
      ],
      "source": [
        "n"
      ]
    },
    {
      "cell_type": "markdown",
      "metadata": {
        "id": "5yG6beIdsq-7"
      },
      "source": [
        "### Variable name\n",
        "- Cannot begin with a number.\n",
        "- Cannot contain spaces.\n",
        "- Cannot contain special symbols (áéíñ¿?).\n",
        "- It is possible to use _ for the spaces."
      ]
    },
    {
      "cell_type": "markdown",
      "metadata": {
        "id": "HJ3KSE5FqVNQ"
      },
      "source": [
        "### Reuse\n",
        "When creating a calculation structure with variables, it is possible to adapt their values to perform different checks."
      ]
    },
    {
      "cell_type": "code",
      "execution_count": 25,
      "metadata": {
        "colab": {
          "base_uri": "https://localhost:8080/"
        },
        "id": "_PoKcZ7SqVNR",
        "outputId": "0f8f5b4d-a090-489d-e3f3-e3f09d58ed78"
      },
      "outputs": [
        {
          "name": "stdout",
          "output_type": "stream",
          "text": [
            "8.5\n"
          ]
        }
      ],
      "source": [
        "grade_1 = 9\n",
        "grade_2 = 8\n",
        "average_grade = (grade_1 + grade_2) / 2\n",
        "print(average_grade)"
      ]
    }
  ],
  "metadata": {
    "colab": {
      "provenance": []
    },
    "kernelspec": {
      "display_name": "Python 3",
      "language": "python",
      "name": "python3"
    },
    "language_info": {
      "codemirror_mode": {
        "name": "ipython",
        "version": 3
      },
      "file_extension": ".py",
      "mimetype": "text/x-python",
      "name": "python",
      "nbconvert_exporter": "python",
      "pygments_lexer": "ipython3",
      "version": "3.10.8"
    }
  },
  "nbformat": 4,
  "nbformat_minor": 0
}
