{
 "cells": [
  {
   "cell_type": "markdown",
   "metadata": {},
   "source": [
    "# Topic 01: Informal introduction (solutions)\n",
    "*Note: These exercises are optional to do at the end of the unit and are intended to support your learning.*"
   ]
  },
  {
   "cell_type": "markdown",
   "metadata": {},
   "source": [
    "**1) Identify the data type (int, float, string, or list) of the following literal values.**\n",
    "```python\n",
    "\"Hello, World!\"     # string\n",
    "[1, 10, 100]        # list\n",
    "-25                 # int\n",
    "1.167               # float\n",
    "[\"Hello\", \"World\"]  # list\n",
    "' '                 # string\n",
    "```"
   ]
  },
  {
   "cell_type": "markdown",
   "metadata": {},
   "source": [
    "**2) Determine mentally (without programming) the result that will appear on the screen from the following variables:**\n",
    "```python\n",
    "a = 10\n",
    "b = -5\n",
    "c = \"Hello \"\n",
    "d = [1, 2, 3]\n",
    "```\n",
    "\n",
    "```python\n",
    "print(a * 5)        # 50\n",
    "print(a - b)        # 15\n",
    "print(c + \"World\")  # Hello World\n",
    "print(c * 2)        # Hello Hello \n",
    "print(d[-1])        # 3\n",
    "print(d[1:])        # [2, 3]\n",
    "print(d + d)        # [1, 2, 3, 1, 2, 3]\n",
    "```"
   ]
  },
  {
   "cell_type": "markdown",
   "metadata": {},
   "source": [
    "**3) The following code pretends to average between 3 numbers, but it does not work correctly. Are you able to identify the problem and solve it?**"
   ]
  },
  {
   "cell_type": "code",
   "execution_count": 2,
   "metadata": {
    "collapsed": false
   },
   "outputs": [
    {
     "name": "stdout",
     "output_type": "stream",
     "text": [
      "The average is: 6.0\n"
     ]
    }
   ],
   "source": [
    "number_1 = 9\n",
    "number_2 = 3\n",
    "number_3 = 6\n",
    "\n",
    "# Incorrect way to calculate the average.\n",
    "average = number_1 + number_2 + number_3 / 3    # First divide by 3, then calculate the sum.\n",
    "# Correct way to calculate the average.\n",
    "average = (number_1 + number_2 + number_3) / 3  # First calculate the sum, then divide by 3.\n",
    "print(\"The average is:\", average)"
   ]
  },
  {
   "cell_type": "markdown",
   "metadata": {},
   "source": [
    "**4) From the previous exercise, let's assume that each number is a grade, and what we want is to obtain the final grade. The problem is that each grade has a percentage value:**\n",
    "\n",
    "* The first grade is worth 15% of the total.\n",
    "* The first grade is worth 35% of the total.\n",
    "* The first grade is worth 50% of the total.\n",
    "\n",
    "**Develop a program to perfectly calculate the final grade.**"
   ]
  },
  {
   "cell_type": "code",
   "execution_count": 3,
   "metadata": {
    "collapsed": false
   },
   "outputs": [
    {
     "name": "stdout",
     "output_type": "stream",
     "text": [
      "The average is: 5.949999999999999\n"
     ]
    }
   ],
   "source": [
    "grade_1 = 10\n",
    "grade_2 = 7\n",
    "grade_3 = 4\n",
    "\n",
    "# Complete the exercise here.\n",
    "average = grade_1 * 0.15 + grade_2 * 0.35 + grade_3 * 0.50  # We can multiply each grade by its weight and add them together.\n",
    "print(\"The average is:\", average)"
   ]
  },
  {
   "cell_type": "markdown",
   "metadata": {},
   "source": [
    "**5) The following matrix (or list with nested lists) must meet one condition, and that is that in each row, the fourth element must always be the result of adding the first three. Are you able to modify the incorrect sums using the slicing technique?**\n",
    "\n",
    "*Tip: The `sum(list)` function returns a sum of all the items in the list. Try it!*"
   ]
  },
  {
   "cell_type": "code",
   "execution_count": 4,
   "metadata": {
    "collapsed": false
   },
   "outputs": [
    {
     "name": "stdout",
     "output_type": "stream",
     "text": [
      "[[1, 1, 1, 3], [2, 2, 2, 6], [3, 3, 3, 9], [4, 4, 4, 12]]\n"
     ]
    }
   ],
   "source": [
    "matrix = [ \n",
    "    [1, 1, 1, 3],\n",
    "    [2, 2, 2, 7],\n",
    "    [3, 3, 3, 9],\n",
    "    [4, 4, 4, 13]\n",
    "]\n",
    "\n",
    "# Complete the exercise here.\n",
    "matrix[1][-1] = sum(matrix[1][:-1])\n",
    "matrix[3][-1] = sum(matrix[3][:-1])\n",
    "\n",
    "print(matrix)"
   ]
  },
  {
   "cell_type": "markdown",
   "metadata": {},
   "source": [
    "**6) While performing a query on a record we have obtained a corrupted string upside down. It seems to contain the name of a student and the grade of an exam. How could we format the string and get a structure like the following?:**\n",
    "\n",
    "* ***First_Name*** ***Last_Name*** scored a ***Grade***\n",
    "\n",
    "Tip: To flip a string quickly using slicing, we can use a third index -1: **string[::-1]** *"
   ]
  },
  {
   "cell_type": "code",
   "execution_count": 8,
   "metadata": {
    "collapsed": false
   },
   "outputs": [
    {
     "name": "stdout",
     "output_type": "stream",
     "text": [
      "10,Felipe Renovato\n",
      "Felipe Renovato scored a 10\n"
     ]
    }
   ],
   "source": [
    "string = \"otavoneR epileF,01\"\n",
    "\n",
    "# Complete the exercise here.\n",
    "flipped_string = string[::-1] # The thirs index is the step, which is -1 to reverse the string.\n",
    "print (flipped_string)\n",
    "print(flipped_string[3:], \"scored a\", flipped_string[:2])"
   ]
  }
 ],
 "metadata": {
  "anaconda-cloud": {},
  "kernelspec": {
   "display_name": "Python [default]",
   "language": "python",
   "name": "python3"
  },
  "language_info": {
   "codemirror_mode": {
    "name": "ipython",
    "version": 3
   },
   "file_extension": ".py",
   "mimetype": "text/x-python",
   "name": "python",
   "nbconvert_exporter": "python",
   "pygments_lexer": "ipython3",
   "version": "3.10.8"
  }
 },
 "nbformat": 4,
 "nbformat_minor": 0
}
