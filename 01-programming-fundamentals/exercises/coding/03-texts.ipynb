{
 "cells": [
  {
   "cell_type": "markdown",
   "metadata": {},
   "source": [
    "# Texts\n",
    "Given four variables with different texts (string1, string2, string3 and string4) use what you have learned to generate a string5 with the following content:\n",
    "\n",
    "`Python is a modern programming language`\n",
    "\n",
    "You must generate the content of string5 using as source the text of the first 4 and the only literal character you can write is the space \" \"."
   ]
  },
  {
   "cell_type": "code",
   "execution_count": 6,
   "metadata": {},
   "outputs": [
    {
     "name": "stdout",
     "output_type": "stream",
     "text": [
      "Python is a modern programming language\n",
      "Your solution is correct!\n"
     ]
    }
   ],
   "source": [
    "# Don't modify the name of the variables, but you can create new ones.\n",
    "string1 = \"modern\"\n",
    "string2 = \"Python\"\n",
    "string4 = \"programming language\"\n",
    "string3 = \"is a\"\n",
    " \n",
    "# Complete the exercise.\n",
    "string5 = string2 + \" \" + string3 + \" \" + string1 + \" \" + string4\n",
    "\n",
    "# Print the result.\n",
    "print(string5)\n",
    "\n",
    "# Validate the result.\n",
    "if string5 == \"Python is a modern programming language\":\n",
    "    print(\"Your solution is correct!\")"
   ]
  }
 ],
 "metadata": {
  "kernelspec": {
   "display_name": "Python 3",
   "language": "python",
   "name": "python3"
  },
  "language_info": {
   "codemirror_mode": {
    "name": "ipython",
    "version": 3
   },
   "file_extension": ".py",
   "mimetype": "text/x-python",
   "name": "python",
   "nbconvert_exporter": "python",
   "pygments_lexer": "ipython3",
   "version": "3.10.8"
  },
  "orig_nbformat": 4
 },
 "nbformat": 4,
 "nbformat_minor": 2
}
