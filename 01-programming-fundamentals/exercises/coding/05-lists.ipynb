{
 "cells": [
  {
   "cell_type": "markdown",
   "metadata": {},
   "source": [
    "# Lists\n",
    "Given two lists `list1` and `list2` you must perform different tasks in the given order:\n",
    "1. Add to `list1` the number `1234` and then the text `Hola`.\n",
    "2. Add to `list2` the text `Adiós` and then the number `1234`.\n",
    "3. Generate a `list3` with all the elements of `list1` except the last one.\n",
    "4. Generate a `list4` with all the elements of `list2` except the first and the last one.\n",
    "5. Generate a `list5` with the elements of `list4` plus `list3`."
   ]
  },
  {
   "cell_type": "code",
   "execution_count": 1,
   "metadata": {},
   "outputs": [
    {
     "name": "stdout",
     "output_type": "stream",
     "text": [
      "[1, 12, 123, 1234, 'Hola']\n",
      "['Bye', 'Ciao', 'Agur', 'Adieu', 'Adiós', 1234]\n",
      "[1, 12, 123, 1234]\n",
      "['Ciao', 'Agur', 'Adieu', 'Adiós']\n",
      "['Ciao', 'Agur', 'Adieu', 'Adiós', 1, 12, 123, 1234]\n"
     ]
    }
   ],
   "source": [
    "list1 = [1, 12, 123]\n",
    "list2 = [\"Bye\", \"Ciao\", \"Agur\", \"Adieu\"]\n",
    " \n",
    "# Add elements to the first list.\n",
    "list1.append(1234)\n",
    "list1.append(\"Hola\")\n",
    " \n",
    "# Add elements to the second list.\n",
    "list2.append(\"Adiós\")\n",
    "list2.append(1234)\n",
    " \n",
    "# Generate the third list with the elements of the first except the last one.\n",
    "list3 = list1[:-1]\n",
    " \n",
    "# Generate the fourth list with the elements of the second except the first and the last one.\n",
    "list4 = list2[1:-1]\n",
    " \n",
    "# Generate the fifth list by adding the fourth and the third.\n",
    "list5 = list4 + list3\n",
    "\n",
    "# Print the lists.\n",
    "print(list1)\n",
    "print(list2)\n",
    "print(list3)\n",
    "print(list4)\n",
    "print(list5)"
   ]
  }
 ],
 "metadata": {
  "kernelspec": {
   "display_name": "Python 3",
   "language": "python",
   "name": "python3"
  },
  "language_info": {
   "codemirror_mode": {
    "name": "ipython",
    "version": 3
   },
   "file_extension": ".py",
   "mimetype": "text/x-python",
   "name": "python",
   "nbconvert_exporter": "python",
   "pygments_lexer": "ipython3",
   "version": "3.10.8"
  },
  "orig_nbformat": 4
 },
 "nbformat": 4,
 "nbformat_minor": 2
}
