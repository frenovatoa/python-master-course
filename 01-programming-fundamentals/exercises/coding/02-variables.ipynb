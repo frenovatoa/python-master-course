{
 "cells": [
  {
   "cell_type": "markdown",
   "metadata": {},
   "source": [
    "# Variables\n",
    "A teacher wants to calculate the final grade of their students based on two exams and is developing an algorithm. The issue is that the exams have different weights and they are unsure how to complete the program:\n",
    "\n",
    "- The first exam, `grade_1`, contributes 40% to the final grade.\n",
    "- The second exam, `grade_2`, contributes 60% to the final grade.\n",
    "\n",
    "Modify the instructions where you see fit to help the teacher correctly calculate the `final_note`."
   ]
  },
  {
   "cell_type": "code",
   "execution_count": 2,
   "metadata": {},
   "outputs": [
    {
     "name": "stdout",
     "output_type": "stream",
     "text": [
      "7.6\n"
     ]
    }
   ],
   "source": [
    "# Variables:\n",
    "grade_1 = 10\n",
    "grade_2 = 6\n",
    "\n",
    "# Calculate the final_grade correctly:\n",
    "final_grade = (grade_1 * 0.4 + grade_2 * 0.6)\n",
    "print(final_grade)"
   ]
  }
 ],
 "metadata": {
  "kernelspec": {
   "display_name": "Python 3",
   "language": "python",
   "name": "python3"
  },
  "language_info": {
   "codemirror_mode": {
    "name": "ipython",
    "version": 3
   },
   "file_extension": ".py",
   "mimetype": "text/x-python",
   "name": "python",
   "nbconvert_exporter": "python",
   "pygments_lexer": "ipython3",
   "version": "3.10.8"
  },
  "orig_nbformat": 4
 },
 "nbformat": 4,
 "nbformat_minor": 2
}
