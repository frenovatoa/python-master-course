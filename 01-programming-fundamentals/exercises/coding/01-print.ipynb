{
 "cells": [
  {
   "cell_type": "markdown",
   "metadata": {},
   "source": [
    "# Print\n",
    "A functionality found in all languages is to print a value to the screen. In Python this function is called **print()** and the value or literal must be passed between the parentheses. \n",
    "\n",
    "Modify the code of the exercise so that the displayed result is the following:\n",
    "- `123`\n",
    "- `-21`\n",
    "- `3.14`\n",
    "- `999.999`\n",
    "- `100`\n",
    "- `777`\n",
    "\n",
    "**Note:** You might have to use print() multiple times!"
   ]
  },
  {
   "cell_type": "code",
   "execution_count": 1,
   "metadata": {},
   "outputs": [
    {
     "name": "stdout",
     "output_type": "stream",
     "text": [
      "123\n",
      "-21\n",
      "3.14\n",
      "999.999\n",
      "100\n",
      "777\n"
     ]
    }
   ],
   "source": [
    "print(123)\n",
    "print(-21)\n",
    "print(3.14)\n",
    "print(999.999)\n",
    "print(100)\n",
    "print(777)"
   ]
  }
 ],
 "metadata": {
  "kernelspec": {
   "display_name": "Python 3",
   "language": "python",
   "name": "python3"
  },
  "language_info": {
   "codemirror_mode": {
    "name": "ipython",
    "version": 3
   },
   "file_extension": ".py",
   "mimetype": "text/x-python",
   "name": "python",
   "nbconvert_exporter": "python",
   "pygments_lexer": "ipython3",
   "version": "3.10.8"
  },
  "orig_nbformat": 4
 },
 "nbformat": 4,
 "nbformat_minor": 2
}
