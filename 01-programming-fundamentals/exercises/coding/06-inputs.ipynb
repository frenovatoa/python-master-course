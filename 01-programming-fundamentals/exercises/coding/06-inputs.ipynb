{
 "cells": [
  {
   "cell_type": "markdown",
   "metadata": {},
   "source": [
    "# Inputs\n",
    "- You must read by keyboard two character strings, one called `first_name` and the other called `last_name`.\n",
    "- You must read by keyboard an integer called `age` (remember that the variable must be of type integer).\n",
    "- You must read by keyboard a floating number called `magic_number`.\n",
    "- Finally you must create a variable `final_string` with the following format:\n",
    "\n",
    "    > FIRSTNAME LASTNAME: Your lucky number is the AGE*MAGIC_NUMBER."
   ]
  },
  {
   "cell_type": "code",
   "execution_count": 2,
   "metadata": {},
   "outputs": [
    {
     "name": "stdout",
     "output_type": "stream",
     "text": [
      "Felipe Renovato: Your lucky number is the 332.64\n"
     ]
    }
   ],
   "source": [
    "# Read the name and the last name in two variables.\n",
    "first_name = input(\"What is your first name? \")\n",
    "last_name = input(\"What is your last name? \")\n",
    " \n",
    "# Read the age and transform it to integer.\n",
    "age = int(input(\"What is your age? \"))\n",
    " \n",
    "# Read a number and transform it to float to use it as magic number.\n",
    "magic_number = float(input(\"What is your favorite number? \"))\n",
    " \n",
    "# Generate the final string concatenating the calculated portion as string.\n",
    "final_string = first_name + \" \" + last_name + \": Your lucky number is the \" + str(age * magic_number)\n",
    "\n",
    "# Print the final string.\n",
    "print(final_string)"
   ]
  }
 ],
 "metadata": {
  "kernelspec": {
   "display_name": "Python 3",
   "language": "python",
   "name": "python3"
  },
  "language_info": {
   "codemirror_mode": {
    "name": "ipython",
    "version": 3
   },
   "file_extension": ".py",
   "mimetype": "text/x-python",
   "name": "python",
   "nbconvert_exporter": "python",
   "pygments_lexer": "ipython3",
   "version": "3.10.8"
  },
  "orig_nbformat": 4
 },
 "nbformat": 4,
 "nbformat_minor": 2
}
