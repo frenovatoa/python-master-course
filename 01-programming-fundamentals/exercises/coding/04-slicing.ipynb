{
 "cells": [
  {
   "cell_type": "markdown",
   "metadata": {},
   "source": [
    "# Slicing\n",
    "When querying a record, we have obtained an upside-down string. It appears to contain the name of a student, the grade of an exam and the subject. Do the following:\n",
    "1. Flips the string and stores it in a variable named `flipped_string`. You can return a flipped string using a third negative index with slicing like this: `string[::-1]`.\n",
    "2. Extract the first and last name of the student and store them in a variable called `name`.\n",
    "3. Extract the note and store it in a variable named `note`.\n",
    "4. Extract the subject and store it in a variable named `subject`.\n",
    "5. You must generate exactly the following structure by formatting the above variables into a string called `formatted_string` where name, note and subject refer to the extracted variables:\n",
    "    \n",
    "    `{name} has scored a {note} in {subject}`"
   ]
  },
  {
   "cell_type": "code",
   "execution_count": 5,
   "metadata": {},
   "outputs": [
    {
     "name": "stdout",
     "output_type": "stream",
     "text": [
      "Felipe Renovato has scored a 9.5 in Philosophy.\n"
     ]
    }
   ],
   "source": [
    "# Available variables.\n",
    "corrupt_string = \".yhposolihP,5.9,otavoneR epileF\"\n",
    " \n",
    "# Flip the corrupt string.\n",
    "flipped_string = corrupt_string[::-1]\n",
    " \n",
    "# Get each portion of the string with slicing in different variables.\n",
    "name    = flipped_string[:15]\n",
    "note    = flipped_string[16:19]\n",
    "subject = flipped_string[20:]\n",
    " \n",
    "# Fortmatted string with the obtained variables.\n",
    "formatted_string = name + \" has scored a \" + note + \" in \" + subject\n",
    "\n",
    "# Print the formatted string.\n",
    "print(formatted_string)"
   ]
  }
 ],
 "metadata": {
  "kernelspec": {
   "display_name": "Python 3",
   "language": "python",
   "name": "python3"
  },
  "language_info": {
   "codemirror_mode": {
    "name": "ipython",
    "version": 3
   },
   "file_extension": ".py",
   "mimetype": "text/x-python",
   "name": "python",
   "nbconvert_exporter": "python",
   "pygments_lexer": "ipython3",
   "version": "3.10.8"
  },
  "orig_nbformat": 4
 },
 "nbformat": 4,
 "nbformat_minor": 2
}
